{
 "cells": [
  {
   "cell_type": "code",
   "execution_count": 1,
   "metadata": {},
   "outputs": [],
   "source": [
    "import numpy as np\n",
    "import json\n",
    "from tempfile import TemporaryFile\n",
    "import sys\n",
    "from numpy import genfromtxt\n",
    "import matplotlib.pyplot as plt\n",
    "import networkx as nx\n",
    "import pandas as pd\n",
    "from array import *\n",
    "import random\n",
    "import array"
   ]
  },
  {
   "cell_type": "markdown",
   "metadata": {},
   "source": [
    "## Defines FUNCTIONS"
   ]
  },
  {
   "cell_type": "code",
   "execution_count": 2,
   "metadata": {},
   "outputs": [],
   "source": [
    "def act(weights, aVec, nInput, nOutput, inPattern):\n",
    "  # Turn weight vector into weight matrix\n",
    "  if np.ndim(weights) < 2:\n",
    "      nNodes = int(np.sqrt(np.shape(weights)[0]))\n",
    "      wMat = np.reshape(weights, (nNodes, nNodes))\n",
    "  else:\n",
    "      nNodes = np.shape(weights)[0]\n",
    "      wMat = weights\n",
    "\n",
    "  # Vectorize input\n",
    "  if np.ndim(inPattern) > 1:\n",
    "      nSamples = np.shape(inPattern)[0]\n",
    "  else:\n",
    "      nSamples = 1\n",
    "\n",
    "  # Run input pattern through ANN    \n",
    "  nodeAct  = np.zeros((nSamples,nNodes))\n",
    "  nodeAct[:,0] = 1 # Bias activation\n",
    "  nodeAct[:,1:nInput+1] = inPattern\n",
    "\n",
    "  # Propagate signal through hidden to output nodes\n",
    "  iNode = nInput+1\n",
    "  for iNode in range(nInput+1,nNodes):\n",
    "      rawAct = np.dot(nodeAct, wMat[:,iNode]).squeeze()\n",
    "      nodeAct[:,iNode] = applyAct(aVec[iNode], rawAct)\n",
    "      # print(nodeAct) # ADDED ADDED ADDED\n",
    "  return nodeAct\n",
    "#return nodeAct[:,-nOutput:]"
   ]
  },
  {
   "cell_type": "code",
   "execution_count": 3,
   "metadata": {},
   "outputs": [],
   "source": [
    "def applyAct(actId, x):\n",
    "  '''\n",
    "  case 1  -- Linear\n",
    "  case 2  -- Unsigned Step Function\n",
    "  case 3  -- Sin\n",
    "  case 4  -- Gausian with mean 0 and sigma 1\n",
    "  case 5  -- Hyperbolic Tangent (signed)\n",
    "  case 6  -- Sigmoid unsigned [1 / (1 + exp(-x))]\n",
    "  case 7  -- Inverse\n",
    "  case 8  -- Absolute Value\n",
    "  case 9  -- Relu\n",
    "  case 10 -- Cosine\n",
    "\n",
    "  '''\n",
    "  if actId == 1:   # Linear\n",
    "    value = x\n",
    "\n",
    "  if actId == 2:   # Unsigned Step Function\n",
    "    value = 1.0*(x>0.0)\n",
    "    #value = (np.tanh(50*x/2.0) + 1.0)/2.0\n",
    "\n",
    "  elif actId == 3: # Sin\n",
    "    value = np.sin(np.pi*x) \n",
    "\n",
    "  elif actId == 4: # Gaussian with mean 0 and sigma 1\n",
    "    value = np.exp(-np.multiply(x, x) / 2.0)\n",
    "\n",
    "  elif actId == 5: # Hyperbolic Tangent (signed)\n",
    "    value = np.tanh(x)     \n",
    "\n",
    "  elif actId == 6: # Sigmoid (unsigned)\n",
    "    value = (np.tanh(x/2.0) + 1.0)/2.0\n",
    "\n",
    "  elif actId == 7: # Inverse\n",
    "    value = -x\n",
    "\n",
    "  elif actId == 8: # Absolute Value\n",
    "    value = abs(x)   \n",
    "    \n",
    "  elif actId == 9: # Relu\n",
    "    value = np.maximum(0, x)   \n",
    "\n",
    "  elif actId == 10: # Cosine\n",
    "    value = np.cos(np.pi*x)\n",
    "    \n",
    "  else:\n",
    "    value = x\n",
    "\n",
    "  return value"
   ]
  },
  {
   "cell_type": "code",
   "execution_count": 4,
   "metadata": {},
   "outputs": [],
   "source": [
    "def importNet(fileName):\n",
    "  ind = np.loadtxt(fileName, delimiter=',')\n",
    "  wMat = ind[:,:-1]     # Weight Matrix\n",
    "  aVec = ind[:,-1]      # Activation functions\n",
    "\n",
    "  # Create weight key (WHY IS THERE A WEIGHT KEY)\n",
    "  wVec = wMat.flatten()\n",
    "  wVec[np.isnan(wVec)]=0\n",
    "  wKey = np.where(wVec!=0)[0] \n",
    "\n",
    "  return wVec, aVec, wKey"
   ]
  },
  {
   "cell_type": "markdown",
   "metadata": {},
   "source": [
    "## Import NET"
   ]
  },
  {
   "cell_type": "code",
   "execution_count": 5,
   "metadata": {},
   "outputs": [],
   "source": [
    "a = importNet('log/test_best.out')\n",
    "weights = a[0]\n",
    "weights = weights.flatten()\n",
    "activations = a[1]\n",
    "activations = activations.flatten()\n",
    "weightkey = a[2]\n",
    "weightkey = weightkey.flatten()\n",
    "\n",
    "#np.set_printoptions(threshold=sys.maxsize)\n",
    "#print(weights)\n",
    "#print(activations)\n",
    "#print(weightkey)"
   ]
  },
  {
   "cell_type": "code",
   "execution_count": 6,
   "metadata": {},
   "outputs": [],
   "source": [
    "weight_adjust = json.load(open('log_tool/biped.cma.4.360.best.json', 'r'))\n",
    "weight_adjust = weight_adjust[0]\n",
    "weight_adjust = np.array(weight_adjust)\n",
    "\n",
    "for i in range(0,len(weightkey)):\n",
    "    x = weightkey[i]\n",
    "    weights[x] = weight_adjust[i]\n",
    "\n",
    "#print(weights)"
   ]
  },
  {
   "cell_type": "markdown",
   "metadata": {},
   "source": [
    "### Return the degree and neighbors of each node"
   ]
  },
  {
   "cell_type": "markdown",
   "metadata": {},
   "source": [
    "## Test NET ACTIVITY"
   ]
  },
  {
   "cell_type": "code",
   "execution_count": 7,
   "metadata": {},
   "outputs": [],
   "source": [
    "#with open('sim_input.txt') as f:\n",
    "#    lines = f.readlines()\n",
    "#print(lines[0])\n",
    "\n",
    "input_list = []\n",
    "\n",
    "def read_lists():\n",
    "    with open('sim_input.txt') as file:\n",
    "        sublist = []\n",
    "        previous_line = ''\n",
    "        for line in file:\n",
    "            line = line.strip()\n",
    "            if line.startswith('[') and previous_line.endswith(']'):\n",
    "                yield sublist\n",
    "                sublist = []\n",
    "            sublist.append(line)\n",
    "            previous_line = line\n",
    "        yield sublist\n",
    "\n",
    "for sublist in read_lists():\n",
    "    input_list.append(sublist)\n",
    "    \n",
    "# print(input_list[0])\n",
    "# print(input_list[1])"
   ]
  },
  {
   "cell_type": "code",
   "execution_count": 8,
   "metadata": {},
   "outputs": [],
   "source": [
    "input_list_final = []\n",
    "\n",
    "for element in input_list:\n",
    "    x = element[0]\n",
    "    x = x.strip('][').split(' ')\n",
    "    x = list(filter(None, x))\n",
    "    x = x[:14]\n",
    "    x = [float(i) for i in x]\n",
    "    input_list_final.append(x)\n",
    "\n",
    "#print(input_list_final[0])\n",
    "#print(input_list_final[1])"
   ]
  },
  {
   "cell_type": "code",
   "execution_count": 9,
   "metadata": {},
   "outputs": [
    {
     "name": "stdout",
     "output_type": "stream",
     "text": [
      "    0        1         2         3       4       5             6       7    \\\n",
      "0   1.0  0.00275  0.000007 -0.000853 -0.0160  0.0924  1.980000e-03  0.8600   \n",
      "0   1.0  0.03000  0.070000  0.010000 -0.0100  0.4100  5.000000e-02  0.0800   \n",
      "0   1.0  0.10000  0.130000  0.050000 -0.0300  0.3300 -1.000000e+00 -0.0300   \n",
      "0   1.0  0.16000  0.130000  0.050000 -0.0500  0.2400 -1.000000e+00 -0.1400   \n",
      "0   1.0  0.23000  0.130000  0.050000 -0.0700  0.1600 -1.000000e+00 -0.2600   \n",
      "..  ...      ...       ...       ...     ...     ...           ...     ...   \n",
      "0   1.0  0.25400  0.068300  0.422000  0.0754 -0.8350  3.280000e-07 -0.0953   \n",
      "0   1.0  0.30000  0.091800  0.424000  0.0749 -0.8350  1.190000e-07 -0.2130   \n",
      "0   1.0  0.36000  0.120000  0.430000  0.0700 -0.8300  0.000000e+00 -0.3300   \n",
      "0   1.0  0.42200  0.128000  0.429000  0.0540 -0.8350  2.640000e-04 -0.4470   \n",
      "0   1.0  0.48500  0.126000  0.429000  0.0350 -0.8350  2.380000e-07 -0.5630   \n",
      "\n",
      "         8    9    ...       202       203       204       205  206       207  \\\n",
      "0  -0.000172  1.0  ...  0.328890  0.993270 -0.537765  0.336781  1.0 -0.598394   \n",
      "0  -1.000000  1.0  ... -0.998044  0.868858 -0.150412 -0.489326  1.0 -0.602430   \n",
      "0  -1.000000  0.0  ... -0.892006  0.903098  0.500721  0.618245  1.0 -0.627384   \n",
      "0  -1.000000  0.0  ... -0.736841  0.941793  0.145981 -0.068613  1.0 -0.636231   \n",
      "0  -1.000000  0.0  ... -0.475422  0.974410  0.301021  0.488687  1.0 -0.644848   \n",
      "..       ...  ...  ...       ...       ...       ...       ...  ...       ...   \n",
      "0  -1.000000  0.0  ...  2.013666  0.004795 -0.956248  0.233666  0.0  0.729295   \n",
      "0  -1.000000  0.0  ...  2.212841  0.004288 -0.980552  0.127408  0.0  0.729295   \n",
      "0  -1.000000  0.0  ...  2.127698  0.009193 -0.987033 -0.124024  0.0  0.729295   \n",
      "0  -1.000000  0.0  ...  2.275318  0.005142 -0.989341  0.044277  0.0  0.729295   \n",
      "0  -1.000000  0.0  ...  2.529653  0.003565 -0.997483 -0.008530  0.0  0.729295   \n",
      "\n",
      "         208        209       210       211  \n",
      "0  -0.971418  -8.186532 -0.604429 -7.703208  \n",
      "0  -4.315546 -10.187655 -5.169762 -5.963461  \n",
      "0  -4.030247  -5.373866 -1.008833 -5.781665  \n",
      "0  -4.265889  -5.028597  0.055406 -5.528140  \n",
      "0  -4.238887  -4.678124  1.308375 -5.277638  \n",
      "..       ...        ...       ...       ...  \n",
      "0  -5.552790  -6.294649 -2.674833 -0.895714  \n",
      "0  -4.095437  -4.154397 -1.913150 -1.054630  \n",
      "0  -5.571851  -6.527899 -0.875107 -0.292481  \n",
      "0  -5.616962  -6.386978  0.256960 -0.045965  \n",
      "0  -5.631937  -6.130756  1.344971  0.191002  \n",
      "\n",
      "[1000 rows x 212 columns]\n"
     ]
    }
   ],
   "source": [
    "activity_list_final = pd.DataFrame()\n",
    "\n",
    "for element in input_list_final:\n",
    "    activity = act(weights, activations, 14, 4, element)\n",
    "    activity = activity.tolist()\n",
    "    #activity = activity[0]\n",
    "    activity_list_final = activity_list_final.append(activity)\n",
    "    \n",
    "print(activity_list_final)"
   ]
  },
  {
   "cell_type": "markdown",
   "metadata": {},
   "source": [
    "## EXPORT DATA"
   ]
  },
  {
   "cell_type": "code",
   "execution_count": 10,
   "metadata": {},
   "outputs": [],
   "source": [
    "activity_list_final.to_csv('walk_2-28-21.csv', index=False)"
   ]
  },
  {
   "cell_type": "code",
   "execution_count": null,
   "metadata": {},
   "outputs": [],
   "source": []
  }
 ],
 "metadata": {
  "kernelspec": {
   "display_name": "Python 3",
   "language": "python",
   "name": "python3"
  },
  "language_info": {
   "codemirror_mode": {
    "name": "ipython",
    "version": 3
   },
   "file_extension": ".py",
   "mimetype": "text/x-python",
   "name": "python",
   "nbconvert_exporter": "python",
   "pygments_lexer": "ipython3",
   "version": "3.7.9"
  }
 },
 "nbformat": 4,
 "nbformat_minor": 4
}
